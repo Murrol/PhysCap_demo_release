{
 "cells": [
  {
   "cell_type": "markdown",
   "metadata": {},
   "source": [
    "Skeleton in pybullet: physcap.urdf\n",
    "\n",
    "Vnet result (on sequence): motion.motion, ddd.mdd"
   ]
  },
  {
   "cell_type": "code",
   "execution_count": 1,
   "metadata": {},
   "outputs": [
    {
     "name": "stdout",
     "output_type": "stream",
     "text": [
      "(14235, 17, 2)\n"
     ]
    }
   ],
   "source": [
    "import numpy as np\n",
    "\n",
    "data_path = 'data/sample_vnect_2ds.npy'\n",
    "\n",
    "data = np.load(data_path) #(14235, 17, 2)\n",
    "\n",
    "print(data.shape)"
   ]
  },
  {
   "cell_type": "code",
   "execution_count": 2,
   "metadata": {},
   "outputs": [
    {
     "name": "stdout",
     "output_type": "stream",
     "text": [
      "(33, 600)\n"
     ]
    }
   ],
   "source": [
    "data_path = 'data/vnect_motions.npy'\n",
    "\n",
    "data = np.load(data_path) #(33, 600) #dimension related to dofs\n",
    "\n",
    "print(data.shape)"
   ]
  },
  {
   "cell_type": "code",
   "execution_count": 3,
   "metadata": {},
   "outputs": [
    {
     "name": "stdout",
     "output_type": "stream",
     "text": [
      "33\n",
      "['trans_root_tx', 'trans_root_ty', 'trans_root_tz', 'rot_root_rx', 'rot_root_ry', 'rot_root_rz', 'rot_left_hip_rx', 'rot_left_hip_ry', 'rot_left_hip_rz', 'rot_right_hip_rx', 'rot_right_hip_ry', 'rot_right_hip_rz', 'rot_left_knee_rx', 'rot_right_knee_rx', 'rot_left_ankle_rx', 'rot_left_ankle_ry', 'rot_right_ankle_rx', 'rot_right_ankle_ry', 'rot_neck_rx', 'rot_neck_ry', 'rot_neck_rz', 'rot_left_clavicle_ry', 'rot_left_clavicle_rz', 'rot_right_clavicle_ry', 'rot_right_clavicle_rz', 'rot_left_shoulder_ry', 'rot_left_shoulder_rz', 'rot_right_shoulder_ry', 'rot_right_shoulder_rz', 'rot_left_elbow_rx', 'rot_left_elbow_ry', 'rot_right_elbow_rx', 'rot_right_elbow_ry']\n"
     ]
    }
   ],
   "source": [
    "def dof_name_getter(skeleton_filename):\n",
    "    with open(skeleton_filename) as f:\n",
    "        content = f.readlines()\n",
    "    content = np.array([x.strip().split(\" \") for x in content], dtype=object)\n",
    "    dof_names_mess = np.array(content[99:][np.arange(0, len(content[99:]), 3)[:-1]])\n",
    "    dof_names = [x[0] for x in dof_names_mess]\n",
    "    return dof_names\n",
    "\n",
    "skeleton_filename = 'asset/physcap.skeleton'\n",
    "\n",
    "dof_names = dof_name_getter(skeleton_filename)\n",
    "\n",
    "print(len(dof_names))\n",
    "print(dof_names)"
   ]
  },
  {
   "cell_type": "code",
   "execution_count": 22,
   "metadata": {},
   "outputs": [
    {
     "name": "stdout",
     "output_type": "stream",
     "text": [
      "(4792, 43)\n"
     ]
    }
   ],
   "source": [
    "data_path = 'results/PhyCap_q.npy' #(4792, 43)\n",
    "# data_path = 'results/VNect_q.npy' #(2408, 43)\n",
    "# data_path = 'results/pred_con.npy' #(14235, 1, 4)\n",
    "# data_path = 'results/pred_sta.npy' #(14235, 1)\n",
    "\n",
    "data = np.load(data_path) #(33, 600) #dimension related to dofs\n",
    "\n",
    "print(data.shape)"
   ]
  }
 ],
 "metadata": {
  "interpreter": {
   "hash": "6321bc11442593ebacf3140731b025220ab0e68d86cdccdc9e240b0f14282d97"
  },
  "kernelspec": {
   "display_name": "Python 3.8.11 ('torch')",
   "language": "python",
   "name": "python3"
  },
  "language_info": {
   "codemirror_mode": {
    "name": "ipython",
    "version": 3
   },
   "file_extension": ".py",
   "mimetype": "text/x-python",
   "name": "python",
   "nbconvert_exporter": "python",
   "pygments_lexer": "ipython3",
   "version": "3.8.11"
  },
  "orig_nbformat": 4
 },
 "nbformat": 4,
 "nbformat_minor": 2
}
