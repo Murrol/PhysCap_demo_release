{
 "cells": [
  {
   "cell_type": "markdown",
   "metadata": {},
   "source": [
    "Skeleton in pybullet: physcap.urdf\n",
    "\n",
    "Vnet result (on sequence): motion.motion, ddd.mdd"
   ]
  },
  {
   "cell_type": "code",
   "execution_count": 1,
   "metadata": {},
   "outputs": [
    {
     "name": "stdout",
     "output_type": "stream",
     "text": [
      "(14235, 17, 2)\n"
     ]
    }
   ],
   "source": [
    "import numpy as np\n",
    "\n",
    "data_path = 'data/sample_vnect_2ds.npy'\n",
    "\n",
    "data = np.load(data_path) #(14235, 17, 2)\n",
    "\n",
    "print(data.shape)"
   ]
  },
  {
   "cell_type": "code",
   "execution_count": 2,
   "metadata": {},
   "outputs": [
    {
     "name": "stdout",
     "output_type": "stream",
     "text": [
      "(33, 600)\n"
     ]
    }
   ],
   "source": [
    "data_path = 'data/vnect_motions.npy'\n",
    "\n",
    "data = np.load(data_path) #(33, 600) #dimension related to dofs\n",
    "\n",
    "print(data.shape)"
   ]
  },
  {
   "cell_type": "code",
   "execution_count": 3,
   "metadata": {},
   "outputs": [
    {
     "name": "stdout",
     "output_type": "stream",
     "text": [
      "33\n",
      "['trans_root_tx', 'trans_root_ty', 'trans_root_tz', 'rot_root_rx', 'rot_root_ry', 'rot_root_rz', 'rot_left_hip_rx', 'rot_left_hip_ry', 'rot_left_hip_rz', 'rot_right_hip_rx', 'rot_right_hip_ry', 'rot_right_hip_rz', 'rot_left_knee_rx', 'rot_right_knee_rx', 'rot_left_ankle_rx', 'rot_left_ankle_ry', 'rot_right_ankle_rx', 'rot_right_ankle_ry', 'rot_neck_rx', 'rot_neck_ry', 'rot_neck_rz', 'rot_left_clavicle_ry', 'rot_left_clavicle_rz', 'rot_right_clavicle_ry', 'rot_right_clavicle_rz', 'rot_left_shoulder_ry', 'rot_left_shoulder_rz', 'rot_right_shoulder_ry', 'rot_right_shoulder_rz', 'rot_left_elbow_rx', 'rot_left_elbow_ry', 'rot_right_elbow_rx', 'rot_right_elbow_ry']\n"
     ]
    }
   ],
   "source": [
    "def dof_name_getter(skeleton_filename):\n",
    "    with open(skeleton_filename) as f:\n",
    "        content = f.readlines()\n",
    "    content = np.array([x.strip().split(\" \") for x in content], dtype=object)\n",
    "    dof_names_mess = np.array(content[99:][np.arange(0, len(content[99:]), 3)[:-1]])\n",
    "    dof_names = [x[0] for x in dof_names_mess]\n",
    "    return dof_names\n",
    "\n",
    "skeleton_filename = 'asset/physcap.skeleton'\n",
    "\n",
    "dof_names = dof_name_getter(skeleton_filename)\n",
    "\n",
    "print(len(dof_names))\n",
    "print(dof_names)"
   ]
  },
  {
   "cell_type": "code",
   "execution_count": 4,
   "metadata": {},
   "outputs": [
    {
     "name": "stdout",
     "output_type": "stream",
     "text": [
      "(4792, 43)\n"
     ]
    }
   ],
   "source": [
    "data_path = 'results/PhyCap_q.npy' #(4792, 43)\n",
    "# data_path = 'results/VNect_q.npy' #(2408, 43)\n",
    "# data_path = 'results/pred_con.npy' #(14235, 1, 4)\n",
    "# data_path = 'results/pred_sta.npy' #(14235, 1)\n",
    "\n",
    "data = np.load(data_path) #(33, 600) #dimension related to dofs\n",
    "\n",
    "print(data.shape)"
   ]
  },
  {
   "cell_type": "code",
   "execution_count": 7,
   "metadata": {},
   "outputs": [],
   "source": [
    "import joblib\n",
    "import os\n",
    "data_dir = '/home/datassd/yuxuan/data_event_out'\n",
    "action = 'subject01_group1_time1'\n",
    "num_frame = len(os.listdir('%s/pose_events/%s' % (data_dir, action))) - 1\n",
    "theta_list, tran_list, joints2d_list, joints3d_list = [], [], [], []\n",
    "for idx in range(num_frame):\n",
    "    beta, theta, tran, joints3d, joints2d = joblib.load(\n",
    "                '%s/pose_events/%s/pose%04i.pkl' % (data_dir, action, idx))\n",
    "    theta_list.append(theta)\n",
    "    tran_list.append(tran)\n",
    "    joints2d_list.append(joints2d)\n",
    "    joints3d_list.append(joints3d_list)"
   ]
  },
  {
   "cell_type": "code",
   "execution_count": 11,
   "metadata": {},
   "outputs": [
    {
     "name": "stdout",
     "output_type": "stream",
     "text": [
      "(1345, 24, 3)\n",
      "[[3.55519741 3.59180427 3.55653177 ... 3.43309809 3.53878823 3.42535081]\n",
      " [3.55952256 3.59598563 3.56035521 ... 3.43472488 3.53671354 3.42668185]\n",
      " [3.55962225 3.59618792 3.56007234 ... 3.43147463 3.53657321 3.42269672]\n",
      " ...\n",
      " [3.65166349 3.65201679 3.66931156 ... 3.40050675 3.71064262 3.32857049]\n",
      " [3.65680305 3.65489879 3.67655446 ... 3.40580291 3.78338245 3.32961747]\n",
      " [3.66094556 3.65862732 3.68600122 ... 3.44589924 3.82421567 3.37110423]]\n"
     ]
    }
   ],
   "source": [
    "kinematic_2d = np.stack(joints2d_list, axis=0)\n",
    "print(kinematic_2d.shape)\n",
    "print(kinematic_2d[0,0])"
   ]
  }
 ],
 "metadata": {
  "interpreter": {
   "hash": "c8d0c122a82163f822ae1d84d8135544f89abe288f7479a863f277faaa4f6da9"
  },
  "kernelspec": {
   "display_name": "Python 3.6.13 ('pyhscap')",
   "language": "python",
   "name": "python3"
  },
  "language_info": {
   "codemirror_mode": {
    "name": "ipython",
    "version": 3
   },
   "file_extension": ".py",
   "mimetype": "text/x-python",
   "name": "python",
   "nbconvert_exporter": "python",
   "pygments_lexer": "ipython3",
   "version": "3.6.13"
  },
  "orig_nbformat": 4
 },
 "nbformat": 4,
 "nbformat_minor": 2
}
